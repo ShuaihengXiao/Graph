{
 "cells": [
  {
   "cell_type": "code",
   "execution_count": 8,
   "id": "dae08987",
   "metadata": {},
   "outputs": [],
   "source": [
    "import sys\n",
    "sys.path.append(\"..\")"
   ]
  },
  {
   "cell_type": "code",
   "execution_count": 9,
   "id": "ef468689",
   "metadata": {},
   "outputs": [],
   "source": [
    "import graphSAGE_v0.random_graph as random_graph"
   ]
  },
  {
   "cell_type": "code",
   "execution_count": 10,
   "id": "4de32016",
   "metadata": {},
   "outputs": [],
   "source": [
    "node_df, edge_df = random_graph.random_graph_lcd(1000,3000,500)"
   ]
  },
  {
   "cell_type": "code",
   "execution_count": 22,
   "id": "36848e0a",
   "metadata": {},
   "outputs": [
    {
     "data": {
      "text/html": [
       "<div>\n",
       "<style scoped>\n",
       "    .dataframe tbody tr th:only-of-type {\n",
       "        vertical-align: middle;\n",
       "    }\n",
       "\n",
       "    .dataframe tbody tr th {\n",
       "        vertical-align: top;\n",
       "    }\n",
       "\n",
       "    .dataframe thead th {\n",
       "        text-align: right;\n",
       "    }\n",
       "</style>\n",
       "<table border=\"1\" class=\"dataframe\">\n",
       "  <thead>\n",
       "    <tr style=\"text-align: right;\">\n",
       "      <th></th>\n",
       "      <th>cust_id</th>\n",
       "      <th>opp_id</th>\n",
       "      <th>weight</th>\n",
       "    </tr>\n",
       "  </thead>\n",
       "  <tbody>\n",
       "    <tr>\n",
       "      <th>465</th>\n",
       "      <td>0</td>\n",
       "      <td>735</td>\n",
       "      <td>1.0</td>\n",
       "    </tr>\n",
       "    <tr>\n",
       "      <th>2427</th>\n",
       "      <td>0</td>\n",
       "      <td>716</td>\n",
       "      <td>1.0</td>\n",
       "    </tr>\n",
       "    <tr>\n",
       "      <th>1594</th>\n",
       "      <td>0</td>\n",
       "      <td>533</td>\n",
       "      <td>1.0</td>\n",
       "    </tr>\n",
       "    <tr>\n",
       "      <th>1570</th>\n",
       "      <td>0</td>\n",
       "      <td>873</td>\n",
       "      <td>1.0</td>\n",
       "    </tr>\n",
       "    <tr>\n",
       "      <th>2874</th>\n",
       "      <td>0</td>\n",
       "      <td>72</td>\n",
       "      <td>1.0</td>\n",
       "    </tr>\n",
       "    <tr>\n",
       "      <th>...</th>\n",
       "      <td>...</td>\n",
       "      <td>...</td>\n",
       "      <td>...</td>\n",
       "    </tr>\n",
       "    <tr>\n",
       "      <th>3415</th>\n",
       "      <td>998</td>\n",
       "      <td>28</td>\n",
       "      <td>1.0</td>\n",
       "    </tr>\n",
       "    <tr>\n",
       "      <th>4241</th>\n",
       "      <td>998</td>\n",
       "      <td>199</td>\n",
       "      <td>1.0</td>\n",
       "    </tr>\n",
       "    <tr>\n",
       "      <th>5656</th>\n",
       "      <td>999</td>\n",
       "      <td>646</td>\n",
       "      <td>1.0</td>\n",
       "    </tr>\n",
       "    <tr>\n",
       "      <th>5068</th>\n",
       "      <td>999</td>\n",
       "      <td>745</td>\n",
       "      <td>1.0</td>\n",
       "    </tr>\n",
       "    <tr>\n",
       "      <th>3098</th>\n",
       "      <td>999</td>\n",
       "      <td>127</td>\n",
       "      <td>1.0</td>\n",
       "    </tr>\n",
       "  </tbody>\n",
       "</table>\n",
       "<p>6000 rows × 3 columns</p>\n",
       "</div>"
      ],
      "text/plain": [
       "      cust_id  opp_id  weight\n",
       "465         0     735     1.0\n",
       "2427        0     716     1.0\n",
       "1594        0     533     1.0\n",
       "1570        0     873     1.0\n",
       "2874        0      72     1.0\n",
       "...       ...     ...     ...\n",
       "3415      998      28     1.0\n",
       "4241      998     199     1.0\n",
       "5656      999     646     1.0\n",
       "5068      999     745     1.0\n",
       "3098      999     127     1.0\n",
       "\n",
       "[6000 rows x 3 columns]"
      ]
     },
     "execution_count": 22,
     "metadata": {},
     "output_type": "execute_result"
    }
   ],
   "source": [
    "edge_df"
   ]
  },
  {
   "cell_type": "code",
   "execution_count": 37,
   "id": "ace360ca",
   "metadata": {},
   "outputs": [],
   "source": [
    "import networkx as nx"
   ]
  },
  {
   "cell_type": "code",
   "execution_count": 15,
   "id": "8a869b10",
   "metadata": {},
   "outputs": [],
   "source": [
    "def ensure_integrity(graph: nx.classes.graph.Graph):\n",
    "        \"\"\"Ensure walk traversal conditions.\"\"\"\n",
    "        edge_list = [(index, index) for index in range(graph.number_of_nodes())]\n",
    "        graph.add_edges_from(edge_list)\n",
    "\n",
    "        return graph"
   ]
  },
  {
   "cell_type": "code",
   "execution_count": 16,
   "id": "e771ba24",
   "metadata": {},
   "outputs": [],
   "source": [
    "def check_indexing(graph: nx.classes.graph.Graph):\n",
    "        \"\"\"Checking the consecutive numeric indexing.\"\"\"\n",
    "        numeric_indices = [index for index in range(graph.number_of_nodes())]\n",
    "        node_indices = sorted([node for node in graph.nodes()])\n",
    "\n",
    "        assert numeric_indices == node_indices, \"The node indexing is wrong.\""
   ]
  },
  {
   "cell_type": "code",
   "execution_count": 32,
   "id": "ec3d93b8",
   "metadata": {},
   "outputs": [],
   "source": [
    "def check_graph(graph: nx.classes.graph.Graph):\n",
    "        \"\"\"Check the Karate Club assumptions about the graph.\"\"\"\n",
    "        check_indexing(graph)\n",
    "        graph = ensure_integrity(graph)\n",
    "\n",
    "        return graph"
   ]
  },
  {
   "cell_type": "code",
   "execution_count": 19,
   "id": "8872d664",
   "metadata": {},
   "outputs": [],
   "source": [
    "graph = nx.Graph() "
   ]
  },
  {
   "cell_type": "code",
   "execution_count": 21,
   "id": "835a81ae",
   "metadata": {},
   "outputs": [],
   "source": [
    "graph.add_nodes_from(node_df['cust_id']) "
   ]
  },
  {
   "cell_type": "code",
   "execution_count": 26,
   "id": "234a0cac",
   "metadata": {},
   "outputs": [],
   "source": [
    "graph.add_weighted_edges_from([(cust,opp,weight) for cust,opp,weight in zip(edge_df['cust_id'],edge_df['opp_id'],edge_df['weight'])])"
   ]
  },
  {
   "cell_type": "code",
   "execution_count": 34,
   "id": "184076a0",
   "metadata": {},
   "outputs": [],
   "source": [
    "graph = check_graph(graph)"
   ]
  },
  {
   "cell_type": "code",
   "execution_count": 48,
   "id": "e9afea12",
   "metadata": {},
   "outputs": [],
   "source": [
    "import numpy as np"
   ]
  },
  {
   "cell_type": "code",
   "execution_count": 53,
   "id": "3ecd298b",
   "metadata": {},
   "outputs": [],
   "source": [
    "import random\n",
    "# import community\n",
    "import numpy as np\n",
    "import networkx as nx\n",
    "# from typing import Dict\n",
    "# from karateclub.estimator import Estimator\n",
    "\n",
    "\n",
    "class BigClam():\n",
    "    r\"\"\"An implementation of `\"BigClam\" <http://infolab.stanford.edu/~crucis/pubs/paper-nmfagm.pdf>`_\n",
    "    from the WSDM '13 paper \"Overlapping Community Detection at Scale: A Non-negative Matrix\n",
    "    Factorization Approach\". The procedure uses gradient ascent to create an embedding which is\n",
    "    used for deciding the node-cluster affiliations.\n",
    "    Args:\n",
    "        dimensions (int): Number of embedding dimensions. Default 8.\n",
    "        iterations (int): Number of training iterations. Default 50.\n",
    "        learning_rate (float): Gradient ascent learning rate. Default is 0.005.\n",
    "        seed (int): Random seed value. Default is 42.\n",
    "    \"\"\"\n",
    "\n",
    "    def __init__(\n",
    "        self,\n",
    "        dimensions: int = 8,\n",
    "        iterations: int = 50,\n",
    "        learning_rate: int = 0.005,\n",
    "        seed: int = 42,\n",
    "    ):\n",
    "        self.dimensions = dimensions\n",
    "        self.iterations = iterations\n",
    "        self.learning_rate = learning_rate\n",
    "        self.seed = seed\n",
    "\n",
    "    def _initialize_features(self, number_of_nodes):\n",
    "        \"\"\"\n",
    "        Creating the community embedding and gradient sum.\n",
    "        Arg types:\n",
    "            * **number_of_nodes** *(int)* - The number of nodes in the graph.\n",
    "        \"\"\"\n",
    "        self._embedding = np.random.uniform(0, 1, (number_of_nodes, self.dimensions))\n",
    "        self._global_features = np.sum(self._embedding, axis=0)\n",
    "\n",
    "    def _calculate_gradient(self, node_feature, neb_features):\n",
    "        \"\"\"\n",
    "        Calculating the feature gradient.\n",
    "        Arg types:\n",
    "            * **node_feature** *(Numpy array)* - The node representation.\n",
    "            * **neb_features** *(Numpy array)* - The representation of node neighbours.\n",
    "        \"\"\"\n",
    "        raw_scores = node_feature.dot(neb_features.T)\n",
    "        raw_scores = np.clip(raw_scores, -15, 15)\n",
    "        scores = np.exp(-raw_scores) / (1 - np.exp(-raw_scores))\n",
    "        scores = scores.reshape(-1, 1)\n",
    "        neb_grad = np.sum(scores * neb_features, axis=0)\n",
    "        without_grad = (\n",
    "            self._global_features - node_feature - np.sum(neb_features, axis=0)\n",
    "        )\n",
    "        grad = neb_grad - without_grad\n",
    "        return grad\n",
    "\n",
    "    def _do_updates(self, node, gradient, node_feature):\n",
    "        \"\"\"\n",
    "        Updating the embedding and the feature sum.\n",
    "        Arg types:\n",
    "            * **node** *(int)* - The node identifier.\n",
    "            * **gradient** *(Numpy array)* - The gradient of the node representation.\n",
    "            * **node_feature** *(Numpy array)* - The node representation.\n",
    "        \"\"\"\n",
    "        self._embedding[node] = self._embedding[node] + self.learning_rate * gradient\n",
    "        self._embedding[node] = np.clip(self._embedding[node], 0.00001, 10)\n",
    "        self._global_features = (\n",
    "            self._global_features - node_feature + self._embedding[node]\n",
    "        )\n",
    "\n",
    "    def get_memberships(self):\n",
    "        r\"\"\"Getting the cluster membership of nodes.\n",
    "        Return types:\n",
    "            * **memberships** *(dict)* - Node cluster memberships.\n",
    "        \"\"\"\n",
    "        indices = np.argmax(self._embedding, axis=1)\n",
    "        memberships = {i: membership for i, membership in enumerate(indices)}\n",
    "        return memberships\n",
    "\n",
    "    def get_embedding(self) -> np.array:\n",
    "        r\"\"\"Getting the node embedding.\n",
    "        Return types:\n",
    "            * **embedding** *(Numpy array)* - The embedding of nodes.\n",
    "        \"\"\"\n",
    "        embedding = self._embedding\n",
    "        return embedding\n",
    "\n",
    "    def fit(self, graph: nx.classes.graph.Graph):\n",
    "        \"\"\"\n",
    "        Fitting a BigClam clustering model.\n",
    "        Arg types:\n",
    "            * **graph** *(NetworkX graph)* - The graph to be clustered.\n",
    "        \"\"\"\n",
    "#         self._set_seed()\n",
    "        graph = check_graph(graph)\n",
    "        number_of_nodes = graph.number_of_nodes()\n",
    "        self._initialize_features(number_of_nodes)\n",
    "        nodes = [node for node in graph.nodes()]\n",
    "        for i in range(self.iterations):\n",
    "            random.shuffle(nodes)\n",
    "            for node in nodes:\n",
    "                nebs = [neb for neb in graph.neighbors(node)]\n",
    "                neb_features = self._embedding[nebs, :]\n",
    "                node_feature = self._embedding[node, :]\n",
    "                gradient = self._calculate_gradient(node_feature, neb_features)\n",
    "                self._do_updates(node, gradient, node_feature)"
   ]
  },
  {
   "cell_type": "code",
   "execution_count": 54,
   "id": "e91f5f9a",
   "metadata": {},
   "outputs": [],
   "source": [
    "model = BigClam()"
   ]
  },
  {
   "cell_type": "code",
   "execution_count": 55,
   "id": "d843ff87",
   "metadata": {},
   "outputs": [],
   "source": [
    "model.fit(graph)"
   ]
  },
  {
   "cell_type": "code",
   "execution_count": 66,
   "id": "6cd216f9",
   "metadata": {},
   "outputs": [],
   "source": [
    "from data import CoraData"
   ]
  },
  {
   "cell_type": "code",
   "execution_count": 67,
   "id": "c078bcc5",
   "metadata": {},
   "outputs": [
    {
     "name": "stdout",
     "output_type": "stream",
     "text": [
      "Using Cached file: /Users/shuaihengxiao/Desktop/graphSAGE_v0/data/cora/ch7_cached.pkl\n"
     ]
    }
   ],
   "source": [
    "data = CoraData(data_root=\"/Users/shuaihengxiao/Desktop/graphSAGE_v0/data/cora\").data"
   ]
  },
  {
   "cell_type": "code",
   "execution_count": 75,
   "id": "f5f116a0",
   "metadata": {},
   "outputs": [],
   "source": [
    "edge_lst = []\n",
    "for key,value in data.adjacency_dict.items():\n",
    "    for v in value:\n",
    "        edge_lst.append((key,v))"
   ]
  },
  {
   "cell_type": "code",
   "execution_count": 87,
   "id": "cbed4b9f",
   "metadata": {},
   "outputs": [],
   "source": [
    "graph = nx.Graph() "
   ]
  },
  {
   "cell_type": "code",
   "execution_count": 88,
   "id": "479e66ad",
   "metadata": {},
   "outputs": [],
   "source": [
    "graph.add_edges_from(edge_lst)"
   ]
  },
  {
   "cell_type": "code",
   "execution_count": 40,
   "id": "a824d327",
   "metadata": {},
   "outputs": [],
   "source": [
    "g = nx.newman_watts_strogatz_graph(1000,700, 0.01)"
   ]
  },
  {
   "cell_type": "code",
   "execution_count": 41,
   "id": "9bf634d7",
   "metadata": {},
   "outputs": [],
   "source": [
    "import bigclam"
   ]
  },
  {
   "cell_type": "code",
   "execution_count": 42,
   "id": "61311ae1",
   "metadata": {},
   "outputs": [],
   "source": [
    "model = bigclam.BigClam(dimensions = 16, iterations = 100)"
   ]
  },
  {
   "cell_type": "code",
   "execution_count": 43,
   "id": "3067ea53",
   "metadata": {},
   "outputs": [],
   "source": [
    "model.fit(g)"
   ]
  },
  {
   "cell_type": "code",
   "execution_count": 44,
   "id": "81e89c22",
   "metadata": {},
   "outputs": [
    {
     "data": {
      "text/plain": [
       "{0}"
      ]
     },
     "execution_count": 44,
     "metadata": {},
     "output_type": "execute_result"
    }
   ],
   "source": [
    "set(model.get_memberships().values())"
   ]
  },
  {
   "cell_type": "code",
   "execution_count": 45,
   "id": "c9473cb1",
   "metadata": {},
   "outputs": [
    {
     "data": {
      "text/plain": [
       "array([[10., 10., 10., ..., 10., 10., 10.],\n",
       "       [10., 10., 10., ..., 10., 10., 10.],\n",
       "       [10., 10., 10., ..., 10., 10., 10.],\n",
       "       ...,\n",
       "       [10., 10., 10., ..., 10., 10., 10.],\n",
       "       [10., 10., 10., ..., 10., 10., 10.],\n",
       "       [10., 10., 10., ..., 10., 10., 10.]])"
      ]
     },
     "execution_count": 45,
     "metadata": {},
     "output_type": "execute_result"
    }
   ],
   "source": [
    "model.get_embedding()"
   ]
  },
  {
   "cell_type": "code",
   "execution_count": null,
   "id": "8c5423be",
   "metadata": {},
   "outputs": [],
   "source": []
  }
 ],
 "metadata": {
  "kernelspec": {
   "display_name": "Python 3",
   "language": "python",
   "name": "python3"
  },
  "language_info": {
   "codemirror_mode": {
    "name": "ipython",
    "version": 3
   },
   "file_extension": ".py",
   "mimetype": "text/x-python",
   "name": "python",
   "nbconvert_exporter": "python",
   "pygments_lexer": "ipython3",
   "version": "3.6.7"
  }
 },
 "nbformat": 4,
 "nbformat_minor": 5
}
