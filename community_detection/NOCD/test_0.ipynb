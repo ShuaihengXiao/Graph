{
 "cells": [
  {
   "cell_type": "code",
   "execution_count": 40,
   "id": "e69c36e2",
   "metadata": {},
   "outputs": [],
   "source": [
    "import pandas as pd\n",
    "import numpy as np\n",
    "import networkx as nx\n",
    "import torch\n",
    "import torch.nn as nn\n",
    "from sklearn.preprocessing import normalize\n",
    "import scipy.sparse as sp"
   ]
  },
  {
   "cell_type": "code",
   "execution_count": 10,
   "id": "5e14a8e7",
   "metadata": {},
   "outputs": [],
   "source": [
    "def make_graph(edge_df):\n",
    "    graph = nx.from_edgelist([(cust,opp) for cust, opp in zip(edge_df['cust_id'],edge_df['opp_id'])])\n",
    "    \n",
    "    return graph"
   ]
  },
  {
   "cell_type": "code",
   "execution_count": 25,
   "id": "74019d5f",
   "metadata": {},
   "outputs": [],
   "source": [
    "# edge_df = pd.read_csv('/Users/shuaihengxiao/Desktop/DANMF/DANMF-master/input/chameleon_edges.csv',names=['cust_id','opp_id'])"
   ]
  },
  {
   "cell_type": "code",
   "execution_count": 30,
   "id": "65807e7d",
   "metadata": {},
   "outputs": [],
   "source": [
    "import sys\n",
    "sys.path.append('..')\n",
    "from graphSAGE_v0.random_graph import random_graph_gcn\n",
    "node_df, edge_df = random_graph_gcn(1000,3000)"
   ]
  },
  {
   "cell_type": "code",
   "execution_count": 31,
   "id": "f74a5e2a",
   "metadata": {},
   "outputs": [],
   "source": [
    "graph = make_graph(edge_df)"
   ]
  },
  {
   "cell_type": "code",
   "execution_count": 106,
   "id": "d6886b7d",
   "metadata": {},
   "outputs": [],
   "source": [
    "class EdgeSampler(torch.utils.data.Dataset):\n",
    "    \"\"\"Sample edges and non-edges uniformly from a graph.\n",
    "\n",
    "    Args:\n",
    "        A: adjacency matrix.\n",
    "        num_pos: number of edges per batch.\n",
    "        num_neg: number of non-edges per batch.\n",
    "    \"\"\"\n",
    "    def __init__(self, A, num_pos=1000, num_neg=1000):\n",
    "       \n",
    "        self.num_pos = num_pos\n",
    "        self.num_neg = num_neg\n",
    "        self.A = A\n",
    "        self.edges = np.transpose(A.nonzero())\n",
    "        self.num_nodes = A.shape[0]\n",
    "        self.num_edges = self.edges.shape[0]\n",
    "        #print('2')\n",
    "\n",
    "    def __getitem__(self, key):\n",
    "        np.random.seed(key)\n",
    "        edges_idx = np.random.randint(0, self.num_edges, size=self.num_pos, dtype=np.int64)\n",
    "        next_edges = self.edges[edges_idx, :]\n",
    "        print('1')\n",
    "        # Select num_neg non-edges\n",
    "        generated = False\n",
    "        while not generated:\n",
    "            candidate_ne = np.random.randint(0, self.num_nodes, size=(2*self.num_neg, 2), dtype=np.int64)\n",
    "            cne1, cne2 = candidate_ne[:, 0], candidate_ne[:, 1]\n",
    "            to_keep = (1 - self.A[cne1, cne2]).astype(np.bool).A1 * (cne1 != cne2)\n",
    "            print('here')\n",
    "            next_nonedges = candidate_ne[to_keep][:self.num_neg]\n",
    "            generated = to_keep.sum() >= self.num_neg\n",
    "        return torch.LongTensor(next_edges), torch.LongTensor(next_nonedges)\n",
    "\n",
    "    def __len__(self):\n",
    "        return 2**32\n",
    "\n",
    "def collate_fn(batch):\n",
    "    edges, nonedges = batch[0]\n",
    "    return (edges, nonedges)\n",
    "\n",
    "def get_edge_sampler(A, num_pos=1000, num_neg=1000, num_workers=2):\n",
    "    data_source = EdgeSampler(A, num_pos, num_neg)\n",
    "    return torch.utils.data.DataLoader(data_source, num_workers=num_workers, collate_fn=collate_fn)\n"
   ]
  },
  {
   "cell_type": "code",
   "execution_count": 107,
   "id": "b3225ff2",
   "metadata": {},
   "outputs": [
    {
     "name": "stdout",
     "output_type": "stream",
     "text": [
      "2\n"
     ]
    }
   ],
   "source": [
    "sampler = get_edge_sampler(nx.adjacency_matrix(graph))"
   ]
  },
  {
   "cell_type": "code",
   "execution_count": 163,
   "id": "fc3fbda7",
   "metadata": {},
   "outputs": [
    {
     "data": {
      "text/plain": [
       "scipy.sparse.csr.csr_matrix"
      ]
     },
     "execution_count": 163,
     "metadata": {},
     "output_type": "execute_result"
    }
   ],
   "source": [
    "type(nx.adjacency_matrix(graph))"
   ]
  },
  {
   "cell_type": "code",
   "execution_count": 80,
   "id": "6ad97592",
   "metadata": {},
   "outputs": [],
   "source": [
    "A = nx.adjacency_matrix(graph).toarray()"
   ]
  },
  {
   "cell_type": "code",
   "execution_count": null,
   "id": "7fba2844",
   "metadata": {},
   "outputs": [],
   "source": []
  },
  {
   "cell_type": "code",
   "execution_count": 92,
   "id": "0e7cb692",
   "metadata": {},
   "outputs": [],
   "source": [
    "np.random.seed(12)"
   ]
  },
  {
   "cell_type": "code",
   "execution_count": 93,
   "id": "6e098a0f",
   "metadata": {},
   "outputs": [],
   "source": [
    "edges = np.transpose(A.nonzero())"
   ]
  },
  {
   "cell_type": "code",
   "execution_count": 94,
   "id": "01f77a7e",
   "metadata": {},
   "outputs": [],
   "source": [
    "edges_idx = np.random.randint(0, edges.shape[0], size=500, dtype=np.int64)"
   ]
  },
  {
   "cell_type": "code",
   "execution_count": 95,
   "id": "498d279c",
   "metadata": {},
   "outputs": [],
   "source": [
    "next_edges = edges[edges_idx, :]"
   ]
  },
  {
   "cell_type": "code",
   "execution_count": 96,
   "id": "805d38db",
   "metadata": {},
   "outputs": [],
   "source": [
    "candidate_ne = np.random.randint(0, graph.number_of_nodes(), size=(2*500, 2), dtype=np.int64)\n",
    "cne1, cne2 = candidate_ne[:, 0], candidate_ne[:, 1]"
   ]
  },
  {
   "cell_type": "code",
   "execution_count": 138,
   "id": "f183c428",
   "metadata": {},
   "outputs": [],
   "source": [
    "a = (1 - A[cne1, cne2]).astype(np.bool)"
   ]
  },
  {
   "cell_type": "code",
   "execution_count": 139,
   "id": "d7e9d16d",
   "metadata": {},
   "outputs": [],
   "source": [
    "b = (cne1 != cne2).astype(np.bool)"
   ]
  },
  {
   "cell_type": "code",
   "execution_count": 144,
   "id": "037ec2d8",
   "metadata": {},
   "outputs": [],
   "source": [
    "to_keep = (1 - A[cne1, cne2]).astype(np.bool) * (cne1 != cne2).astype(np.bool)"
   ]
  },
  {
   "cell_type": "code",
   "execution_count": 145,
   "id": "6c7c13d5",
   "metadata": {},
   "outputs": [
    {
     "data": {
      "text/plain": [
       "array([ True,  True,  True,  True,  True,  True,  True,  True,  True,\n",
       "        True,  True,  True,  True,  True,  True,  True,  True,  True,\n",
       "        True,  True,  True, False,  True,  True,  True,  True,  True,\n",
       "        True,  True,  True,  True,  True,  True,  True,  True,  True,\n",
       "        True,  True,  True,  True,  True,  True,  True,  True,  True,\n",
       "        True,  True,  True,  True,  True,  True,  True,  True,  True,\n",
       "        True,  True,  True,  True,  True,  True,  True,  True,  True,\n",
       "        True,  True,  True,  True,  True,  True,  True,  True,  True,\n",
       "        True,  True,  True,  True,  True,  True,  True,  True,  True,\n",
       "        True,  True,  True,  True,  True,  True,  True,  True,  True,\n",
       "        True,  True,  True,  True,  True,  True,  True,  True,  True,\n",
       "        True,  True,  True,  True,  True,  True,  True,  True,  True,\n",
       "        True,  True,  True,  True,  True,  True,  True,  True,  True,\n",
       "        True,  True,  True,  True,  True,  True,  True,  True,  True,\n",
       "        True,  True,  True,  True,  True,  True,  True,  True,  True,\n",
       "        True,  True,  True,  True,  True,  True,  True,  True,  True,\n",
       "        True,  True,  True,  True,  True,  True,  True,  True,  True,\n",
       "        True,  True,  True,  True,  True,  True,  True,  True,  True,\n",
       "        True,  True,  True,  True,  True,  True,  True,  True,  True,\n",
       "        True,  True,  True,  True,  True,  True,  True,  True,  True,\n",
       "        True,  True,  True,  True,  True,  True,  True,  True,  True,\n",
       "        True,  True,  True,  True,  True,  True,  True,  True,  True,\n",
       "        True,  True,  True,  True,  True,  True,  True,  True,  True,\n",
       "        True,  True,  True,  True,  True,  True,  True,  True,  True,\n",
       "        True,  True,  True,  True,  True,  True,  True,  True,  True,\n",
       "        True,  True,  True,  True,  True,  True,  True,  True,  True,\n",
       "        True,  True,  True,  True,  True,  True,  True,  True,  True,\n",
       "        True,  True,  True,  True,  True,  True,  True,  True,  True,\n",
       "        True,  True,  True,  True,  True,  True,  True,  True,  True,\n",
       "        True,  True, False,  True,  True,  True,  True,  True,  True,\n",
       "        True,  True,  True,  True,  True,  True,  True,  True,  True,\n",
       "        True,  True,  True,  True,  True,  True,  True,  True,  True,\n",
       "        True,  True,  True,  True,  True,  True,  True,  True,  True,\n",
       "        True,  True,  True,  True,  True,  True,  True,  True,  True,\n",
       "        True,  True,  True,  True,  True,  True,  True,  True,  True,\n",
       "        True,  True,  True,  True,  True,  True,  True,  True,  True,\n",
       "        True,  True,  True,  True,  True,  True,  True,  True,  True,\n",
       "        True,  True,  True,  True,  True,  True,  True,  True,  True,\n",
       "        True,  True,  True,  True,  True,  True,  True,  True,  True,\n",
       "        True,  True,  True,  True,  True,  True,  True,  True,  True,\n",
       "        True,  True,  True,  True,  True,  True,  True,  True,  True,\n",
       "        True,  True,  True,  True,  True,  True,  True,  True,  True,\n",
       "        True,  True,  True,  True,  True,  True,  True,  True,  True,\n",
       "        True,  True,  True,  True,  True,  True,  True,  True,  True,\n",
       "        True,  True,  True,  True,  True,  True,  True,  True,  True,\n",
       "        True,  True,  True,  True,  True,  True,  True,  True,  True,\n",
       "        True,  True,  True,  True,  True,  True,  True,  True,  True,\n",
       "        True,  True,  True,  True,  True,  True,  True,  True,  True,\n",
       "        True,  True,  True,  True,  True,  True,  True,  True,  True,\n",
       "        True,  True,  True,  True,  True,  True,  True,  True,  True,\n",
       "        True,  True,  True,  True,  True, False,  True,  True,  True,\n",
       "        True,  True,  True,  True,  True,  True,  True,  True,  True,\n",
       "        True,  True,  True,  True,  True,  True,  True,  True,  True,\n",
       "        True,  True,  True,  True,  True,  True,  True,  True,  True,\n",
       "        True,  True,  True,  True,  True,  True,  True,  True,  True,\n",
       "        True,  True,  True,  True,  True,  True,  True,  True,  True,\n",
       "        True,  True,  True,  True,  True,  True,  True,  True,  True,\n",
       "        True, False,  True,  True,  True,  True,  True,  True,  True,\n",
       "        True,  True,  True,  True,  True,  True,  True,  True,  True,\n",
       "        True,  True,  True,  True,  True,  True,  True,  True,  True,\n",
       "        True,  True,  True,  True,  True,  True,  True,  True,  True,\n",
       "        True,  True,  True,  True,  True,  True,  True,  True,  True,\n",
       "        True,  True,  True,  True,  True,  True,  True,  True,  True,\n",
       "        True,  True,  True,  True,  True,  True,  True,  True,  True,\n",
       "        True,  True,  True,  True,  True,  True,  True,  True,  True,\n",
       "        True,  True,  True,  True,  True,  True,  True,  True,  True,\n",
       "        True,  True,  True,  True,  True,  True,  True,  True,  True,\n",
       "        True,  True,  True,  True,  True,  True,  True,  True,  True,\n",
       "        True,  True,  True,  True, False,  True,  True,  True,  True,\n",
       "        True,  True,  True,  True,  True,  True,  True,  True,  True,\n",
       "        True,  True,  True,  True,  True,  True,  True,  True,  True,\n",
       "        True,  True,  True,  True,  True,  True,  True,  True,  True,\n",
       "        True,  True,  True,  True,  True,  True,  True,  True,  True,\n",
       "        True,  True,  True,  True,  True,  True,  True,  True,  True,\n",
       "        True,  True,  True,  True,  True,  True,  True,  True,  True,\n",
       "        True,  True,  True,  True,  True,  True,  True,  True,  True,\n",
       "        True,  True,  True,  True,  True,  True,  True,  True,  True,\n",
       "        True,  True,  True,  True,  True,  True,  True,  True,  True,\n",
       "        True,  True,  True,  True,  True,  True,  True,  True,  True,\n",
       "        True,  True,  True,  True,  True,  True,  True,  True,  True,\n",
       "        True,  True,  True,  True,  True,  True,  True,  True,  True,\n",
       "        True,  True,  True,  True,  True,  True,  True,  True,  True,\n",
       "        True, False,  True,  True,  True,  True,  True,  True,  True,\n",
       "        True,  True,  True,  True,  True,  True,  True,  True,  True,\n",
       "        True,  True,  True,  True,  True,  True,  True,  True,  True,\n",
       "        True,  True,  True,  True,  True,  True,  True,  True,  True,\n",
       "        True,  True,  True,  True,  True,  True,  True,  True,  True,\n",
       "        True,  True,  True,  True,  True,  True,  True,  True,  True,\n",
       "        True,  True,  True,  True,  True,  True,  True,  True,  True,\n",
       "        True,  True,  True,  True,  True,  True,  True,  True,  True,\n",
       "        True,  True,  True,  True,  True,  True,  True,  True,  True,\n",
       "        True,  True,  True,  True,  True,  True,  True,  True,  True,\n",
       "        True,  True,  True,  True,  True,  True,  True,  True,  True,\n",
       "        True,  True,  True,  True,  True,  True,  True,  True,  True,\n",
       "        True,  True,  True,  True,  True,  True,  True,  True,  True,\n",
       "        True,  True,  True,  True,  True,  True,  True,  True,  True,\n",
       "        True,  True,  True,  True,  True,  True,  True,  True,  True,\n",
       "        True,  True,  True,  True,  True,  True,  True,  True,  True,\n",
       "        True,  True,  True,  True,  True,  True,  True,  True,  True,\n",
       "        True,  True,  True,  True,  True,  True,  True,  True,  True,\n",
       "        True,  True,  True,  True,  True,  True,  True,  True,  True,\n",
       "        True,  True,  True,  True,  True,  True,  True,  True,  True,\n",
       "        True,  True,  True,  True,  True,  True,  True,  True,  True,\n",
       "        True,  True,  True,  True,  True,  True,  True,  True,  True,\n",
       "        True,  True,  True,  True,  True,  True,  True,  True,  True,\n",
       "        True,  True,  True,  True,  True,  True,  True,  True,  True,\n",
       "        True,  True,  True,  True,  True,  True,  True,  True,  True,\n",
       "        True,  True,  True,  True,  True,  True,  True,  True,  True,\n",
       "        True,  True,  True,  True,  True,  True,  True,  True,  True,\n",
       "        True,  True,  True,  True,  True,  True,  True,  True,  True,\n",
       "        True,  True,  True,  True,  True,  True,  True,  True,  True,\n",
       "        True])"
      ]
     },
     "execution_count": 145,
     "metadata": {},
     "output_type": "execute_result"
    }
   ],
   "source": [
    "to_keep"
   ]
  },
  {
   "cell_type": "code",
   "execution_count": 154,
   "id": "23cc0325",
   "metadata": {},
   "outputs": [
    {
     "data": {
      "text/plain": [
       "(1000,)"
      ]
     },
     "execution_count": 154,
     "metadata": {},
     "output_type": "execute_result"
    }
   ],
   "source": [
    "to_keep.shape"
   ]
  },
  {
   "cell_type": "code",
   "execution_count": 153,
   "id": "25d4e12e",
   "metadata": {},
   "outputs": [],
   "source": [
    "next_nonedges = candidate_ne[to_keep][:500]"
   ]
  },
  {
   "cell_type": "code",
   "execution_count": 58,
   "id": "08b77f29",
   "metadata": {},
   "outputs": [
    {
     "data": {
      "text/plain": [
       "998"
      ]
     },
     "execution_count": 58,
     "metadata": {},
     "output_type": "execute_result"
    }
   ],
   "source": [
    "graph.number_of_nodes()"
   ]
  },
  {
   "cell_type": "code",
   "execution_count": 155,
   "id": "ac6fd709",
   "metadata": {},
   "outputs": [
    {
     "ename": "AttributeError",
     "evalue": "'numpy.ndarray' object has no attribute 'nnz'",
     "output_type": "error",
     "traceback": [
      "\u001b[0;31m---------------------------------------------------------------------------\u001b[0m",
      "\u001b[0;31mAttributeError\u001b[0m                            Traceback (most recent call last)",
      "\u001b[0;32m<ipython-input-155-fabaef58216c>\u001b[0m in \u001b[0;36m<module>\u001b[0;34m\u001b[0m\n\u001b[0;32m----> 1\u001b[0;31m \u001b[0mA\u001b[0m\u001b[0;34m.\u001b[0m\u001b[0mnnz\u001b[0m\u001b[0;34m\u001b[0m\u001b[0;34m\u001b[0m\u001b[0m\n\u001b[0m",
      "\u001b[0;31mAttributeError\u001b[0m: 'numpy.ndarray' object has no attribute 'nnz'"
     ]
    }
   ],
   "source": []
  },
  {
   "cell_type": "code",
   "execution_count": 37,
   "id": "2414171c",
   "metadata": {},
   "outputs": [],
   "source": [
    "x_norm = normalize(node_df)"
   ]
  },
  {
   "cell_type": "code",
   "execution_count": 49,
   "id": "6e9162ae",
   "metadata": {},
   "outputs": [],
   "source": [
    "def to_sparse_tensor(matrix,\n",
    "                     cuda = False):\n",
    "    \"\"\"Convert a scipy sparse matrix to a torch sparse tensor.\n",
    "\n",
    "    Args:\n",
    "        matrix: Sparse matrix to convert.\n",
    "        cuda: Whether to move the resulting tensor to GPU.\n",
    "\n",
    "    Returns:\n",
    "        sparse_tensor: Resulting sparse tensor (on CPU or on GPU).\n",
    "\n",
    "    \"\"\"\n",
    "    if sp.issparse(matrix):\n",
    "        coo = matrix.tocoo()\n",
    "        indices = torch.LongTensor(np.vstack([coo.row, coo.col]))\n",
    "        values = torch.FloatTensor(coo.data)\n",
    "        shape = torch.Size(coo.shape)\n",
    "        sparse_tensor = torch.sparse.FloatTensor(indices, values, shape)\n",
    "    elif torch.is_tensor(matrix):\n",
    "        row, col = matrix.nonzero().t()\n",
    "        indices = torch.stack([row, col])\n",
    "        values = matrix[row, col]\n",
    "        shape = torch.Size(matrix.shape)\n",
    "        sparse_tensor = torch.sparse.FloatTensor(indices, values, shape)\n",
    "    else:\n",
    "        raise ValueError(f\"matrix must be scipy.sparse or torch.Tensor (got {type(matrix)} instead).\")\n",
    "    if cuda:\n",
    "        sparse_tensor = sparse_tensor.cuda()\n",
    "    return sparse_tensor.coalesce()"
   ]
  },
  {
   "cell_type": "code",
   "execution_count": 51,
   "id": "f5c529fb",
   "metadata": {},
   "outputs": [],
   "source": [
    "x_norm = to_sparse_tensor(torch.tensor(x_norm),)"
   ]
  },
  {
   "cell_type": "code",
   "execution_count": null,
   "id": "9e49950b",
   "metadata": {},
   "outputs": [],
   "source": []
  }
 ],
 "metadata": {
  "kernelspec": {
   "display_name": "Python 3",
   "language": "python",
   "name": "python3"
  },
  "language_info": {
   "codemirror_mode": {
    "name": "ipython",
    "version": 3
   },
   "file_extension": ".py",
   "mimetype": "text/x-python",
   "name": "python",
   "nbconvert_exporter": "python",
   "pygments_lexer": "ipython3",
   "version": "3.6.7"
  }
 },
 "nbformat": 4,
 "nbformat_minor": 5
}
